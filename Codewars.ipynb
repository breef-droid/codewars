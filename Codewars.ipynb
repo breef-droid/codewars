{
  "cells": [
    {
      "cell_type": "markdown",
      "metadata": {
        "colab_type": "text",
        "id": "view-in-github"
      },
      "source": [
        "<a href=\"https://colab.research.google.com/github/breef-droid/codewars/blob/main/Codewars.ipynb\" target=\"_parent\"><img src=\"https://colab.research.google.com/assets/colab-badge.svg\" alt=\"Open In Colab\"/></a>"
      ]
    },
    {
      "cell_type": "markdown",
      "metadata": {
        "id": "gwNrVdLsRX9o"
      },
      "source": [
        "### Sum of parts\n",
        "#### https://www.codewars.com/kata/5ce399e0047a45001c853c2b/train/python"
      ]
    },
    {
      "cell_type": "code",
      "execution_count": null,
      "metadata": {
        "id": "sp568C4cOZUg"
      },
      "outputs": [],
      "source": [
        "def parts_sums(ls):\n",
        "    result = [sum(ls)]\n",
        "    for item in ls:\n",
        "        result.append(result[-1] - item)\n",
        "    return result\n",
        "\n",
        "    \n"
      ]
    },
    {
      "cell_type": "code",
      "execution_count": null,
      "metadata": {
        "colab": {
          "base_uri": "https://localhost:8080/"
        },
        "id": "1LsbPpc-RhMO",
        "outputId": "c8ed54b7-7bce-4b4a-9557-11faa30e5632"
      },
      "outputs": [],
      "source": [
        "ls = [0, 1, 3, 6, 10]\n",
        "parts_sums(ls)"
      ]
    },
    {
      "cell_type": "markdown",
      "metadata": {
        "id": "Z3m_18GplGh5"
      },
      "source": [
        "### Buying a car\n",
        "#### https://www.codewars.com/kata/554a44516729e4d80b000012/train/python"
      ]
    },
    {
      "cell_type": "code",
      "execution_count": null,
      "metadata": {
        "id": "hysFaye6RyvG"
      },
      "outputs": [],
      "source": [
        "def nbMonths(startPriceOld, startPriceNew, savingperMonth, percentLossByMonth):\n",
        "    # your code\n",
        "    trade_price = -1\n",
        "    month = 0\n",
        "    savings = 0\n",
        "\n",
        "    if startPriceOld >= startPriceNew:\n",
        "        return [0, startPriceOld - startPriceNew]\n",
        "\n",
        "    while trade_price < 0:\n",
        "        savings += savingperMonth\n",
        "        if month % 2 == 0:\n",
        "            percentLossByMonth = percentLossByMonth\n",
        "        elif month % 2 == 1:\n",
        "            percentLossByMonth += 0.5\n",
        "        startPriceOld = startPriceOld * (1 - percentLossByMonth/100)\n",
        "        startPriceNew = startPriceNew * (1 - percentLossByMonth/100)\n",
        "        trade_price = (startPriceOld - startPriceNew) + savings\n",
        "        month += 1\n",
        "        print(f'Month: {month}, OldPrice: {startPriceOld}, NewPrice: {startPriceNew}, %depn {percentLossByMonth}, Trade {trade_price}')\n",
        "    return [month, round(trade_price, 0)]\n",
        "        \n",
        "# def calc_price(startPriceOld, startPriceNew, savingperMonth, percentLossByMonth):\n",
        "#     return (startPriceOld * (1-percentLossByMonth/100) - startPriceNew * (1-percentLossByMonth/100) + savingperMonth)"
      ]
    },
    {
      "cell_type": "code",
      "execution_count": null,
      "metadata": {
        "colab": {
          "base_uri": "https://localhost:8080/"
        },
        "id": "MQWwMJH0mEQ6",
        "outputId": "d5b670c8-28b4-488b-e0ae-32eaf7c9921e"
      },
      "outputs": [],
      "source": [
        "nbMonths(2000, 8000, 1000, 1.5)"
      ]
    },
    {
      "cell_type": "markdown",
      "metadata": {
        "id": "ZbLzVeq7ci_L"
      },
      "source": [
        "### Multiplication Table\n",
        "#### https://www.codewars.com/kata/534d2f5b5371ecf8d2000a08/train/python"
      ]
    },
    {
      "cell_type": "code",
      "execution_count": null,
      "metadata": {
        "id": "rPdYT-6Xn-xP"
      },
      "outputs": [],
      "source": [
        "def multiplication_table(size):\n",
        "    res = []\n",
        "    for num_row in range(1, size + 1):\n",
        "        row_table = []\n",
        "        for num_column in range(1, size + 1):\n",
        "            row_table.append(num_row * num_column)\n",
        "        res.append(row_table)\n",
        "    return res"
      ]
    },
    {
      "cell_type": "code",
      "execution_count": null,
      "metadata": {
        "colab": {
          "base_uri": "https://localhost:8080/"
        },
        "id": "HsOwG7mWc10Y",
        "outputId": "f2c37bf2-3660-43e7-8242-8d5d9590cddd"
      },
      "outputs": [],
      "source": [
        "multiplication_table(4)"
      ]
    },
    {
      "cell_type": "markdown",
      "metadata": {
        "id": "CJ8cVCDjEQSO"
      },
      "source": [
        "### Triple Trouble\n",
        "#### https://www.codewars.com/kata/55d5434f269c0c3f1b000058"
      ]
    },
    {
      "cell_type": "code",
      "execution_count": null,
      "metadata": {
        "id": "jfzpsvAIc9NB"
      },
      "outputs": [],
      "source": [
        "from collections import Counter\n",
        "\n",
        "def triple_double(num1, num2):\n",
        "    num1 = [int(num) for num in str(num1)]\n",
        "    num2 = [int(num) for num in str(num2)]\n",
        "    \n",
        "    group1 = Counter(num1)\n",
        "    group2 = Counter(num2)\n",
        "\n",
        "    for key, value in group1.items():\n",
        "        if value > 2 and key in group2.keys():\n",
        "            if group2[key] == 2:\n",
        "                print(key, value)\n",
        "                return 1\n",
        "    return 0\n"
      ]
    },
    {
      "cell_type": "code",
      "execution_count": null,
      "metadata": {
        "colab": {
          "base_uri": "https://localhost:8080/"
        },
        "id": "dnA9JjE2FP7z",
        "outputId": "1d71c4fb-ec3b-4c27-9600-ac6ce2c9a415"
      },
      "outputs": [],
      "source": [
        "triple_double(10560002, 100)"
      ]
    },
    {
      "cell_type": "markdown",
      "metadata": {
        "id": "cjLaDpX12YON"
      },
      "source": [
        "### Encrypt this! (25/09/2021)\n",
        "#### https://www.codewars.com/kata/5848565e273af816fb000449"
      ]
    },
    {
      "cell_type": "code",
      "execution_count": null,
      "metadata": {
        "id": "SPmmyDmyOq6N"
      },
      "outputs": [],
      "source": [
        "def encrypt_this(text):\n",
        "    encrypt_word = []\n",
        "\n",
        "    for word in text.split():\n",
        "        word = list(word)\n",
        "        word[0] = str(ord(word[0]))\n",
        "        if len(word) > 2:\n",
        "            word[1], word[-1] = word[-1], word[1]\n",
        "        encrypt_word.append(''.join(word))\n",
        "\n",
        "    return ' '.join(encrypt_word)\n",
        "        "
      ]
    },
    {
      "cell_type": "code",
      "execution_count": null,
      "metadata": {
        "colab": {
          "base_uri": "https://localhost:8080/",
          "height": 36
        },
        "id": "o5r2dA222iFM",
        "outputId": "ee14d0ee-b446-4e02-fc60-42fa94373fcd"
      },
      "outputs": [],
      "source": [
        "test = \"The more he saw the less he spoke\"\n",
        "encrypt_this(test)"
      ]
    },
    {
      "cell_type": "markdown",
      "metadata": {
        "id": "PZOHNoyb389J"
      },
      "source": [
        "### A Rule of Divisibility by 13\n",
        "#### https://www.codewars.com/kata/564057bc348c7200bd0000ff/train/python"
      ]
    },
    {
      "cell_type": "code",
      "execution_count": null,
      "metadata": {
        "id": "rbzDcXnw2qBL"
      },
      "outputs": [],
      "source": [
        "def thirt(n):\n",
        "    rem = [1,10,9,12,3,4]\n",
        "    digits = [int(dig) for dig in str(n)][::-1]\n",
        "    result = 0\n",
        "    \n",
        "    while len(digits) > 2:\n",
        "        for i in range(0, len(digits)):\n",
        "            result += digits[i] * rem[i % 6]\n",
        "        digits = [int(dig) for dig in str(result)][::-1]\n",
        "        result = 0\n",
        "\n",
        "    num = [str(n) for n in digits[::-1]]\n",
        "    num = int(''.join(num))\n",
        "\n",
        "    return num"
      ]
    },
    {
      "cell_type": "code",
      "execution_count": null,
      "metadata": {
        "colab": {
          "base_uri": "https://localhost:8080/"
        },
        "id": "p_qzAcKK4R1Z",
        "outputId": "2f901127-a774-45c9-bb8e-dd6c18a02a49"
      },
      "outputs": [],
      "source": [
        "thirt(1234567)"
      ]
    },
    {
      "cell_type": "code",
      "execution_count": null,
      "metadata": {
        "id": "38UytqERCbnN"
      },
      "outputs": [],
      "source": []
    },
    {
      "cell_type": "markdown",
      "metadata": {
        "id": "6KWzuJ5DWFzw"
      },
      "source": [
        "### Meeting\n",
        "#### https://www.codewars.com/kata/59df2f8f08c6cec835000012"
      ]
    },
    {
      "cell_type": "code",
      "execution_count": null,
      "metadata": {
        "id": "qJW7MRUvWIR7"
      },
      "outputs": [],
      "source": [
        "def meeting(s):\n",
        "    names_list = list()\n",
        "    for name in s.split(';'):\n",
        "        name = name.upper()\n",
        "        name = tuple(name.split(':')[::-1])\n",
        "        names_list.append(name)\n",
        "    names_list = sorted(names_list, key= lambda element: (element[0], element[1]))\n",
        "    res = str()\n",
        "    for e in names_list:\n",
        "        e = str(e).replace(\"'\", \"\")\n",
        "        res += str(e)\n",
        "    return res\n"
      ]
    },
    {
      "cell_type": "code",
      "execution_count": null,
      "metadata": {
        "colab": {
          "base_uri": "https://localhost:8080/",
          "height": 35
        },
        "id": "nnmyTlZMWoKv",
        "outputId": "6a58aa0d-47ce-4480-8a63-b41113399667"
      },
      "outputs": [],
      "source": [
        "s = \"Fred:Corwill;Wilfred:Corwill;Barney:Tornbull;Betty:Tornbull;Bjon:Tornbull;Raphael:Corwill;Alfred:Corwill\"\n",
        "meeting(s)"
      ]
    },
    {
      "cell_type": "markdown",
      "metadata": {
        "id": "cua-bAupxV0o"
      },
      "source": [
        "### Luhn Algorithm\n",
        "#### https://www.codewars.com/kata/5418a1dd6d8216e18a0012b2"
      ]
    },
    {
      "cell_type": "code",
      "execution_count": null,
      "metadata": {
        "id": "6ykLlcK2WsLS"
      },
      "outputs": [],
      "source": [
        "def validate(n):\n",
        "    n = [int(digit) for digit in str(n)][::-1]\n",
        "    for num in range(1, len(n), 2):\n",
        "        if len(str(n[num] * 2)) > 1:\n",
        "            n[num] = n[num] * 2 - 9\n",
        "        else:\n",
        "            n[num] *= 2\n",
        "    \n",
        "    return sum(n) % 10 == 0"
      ]
    },
    {
      "cell_type": "code",
      "execution_count": null,
      "metadata": {
        "colab": {
          "base_uri": "https://localhost:8080/"
        },
        "id": "xk0K__DRx_U1",
        "outputId": "889b5262-79c6-4cb0-f251-2c03086c41c9"
      },
      "outputs": [],
      "source": [
        "validate(8511025042084)"
      ]
    },
    {
      "cell_type": "markdown",
      "metadata": {
        "id": "Xi8-vmvC_YPA"
      },
      "source": [
        "### Count IP Addresses\n",
        "#### https://www.codewars.com/kata/526989a41034285187000de4/train/python\n",
        "\n",
        "#### 0.0.0.0 -> 255.255.255.255"
      ]
    },
    {
      "cell_type": "code",
      "execution_count": null,
      "metadata": {
        "id": "OPaf8EEeyC0x"
      },
      "outputs": [],
      "source": [
        "def ips_between(start, end):\n",
        "    return abs(ip_to_int(start) - ip_to_int(end))\n",
        "\n",
        "def ip_to_int(ip):\n",
        "    ip = [int(i) for i in ip.split('.')][::-1]\n",
        "    int_result = 0\n",
        "    for index, value in enumerate(ip):\n",
        "        int_result += value * (2 ** (index * 8))\n",
        "    return int_result"
      ]
    },
    {
      "cell_type": "code",
      "execution_count": null,
      "metadata": {
        "colab": {
          "base_uri": "https://localhost:8080/"
        },
        "id": "B-6g73tI0Lfu",
        "outputId": "08b2a972-15cd-48aa-bd56-1b1ac563e6b1"
      },
      "outputs": [],
      "source": [
        "# ip_to_int(\"64.233.187.99\")\n",
        "ips_between(\"10.0.0.0\", \"10.0.0.50\")"
      ]
    },
    {
      "cell_type": "markdown",
      "metadata": {
        "id": "aSk33xRNuOxq"
      },
      "source": [
        "### Gap in primes\n",
        "#### https://www.codewars.com/kata/561e9c843a2ef5a40c0000a4/train/python"
      ]
    },
    {
      "cell_type": "code",
      "execution_count": null,
      "metadata": {
        "id": "DZxdUTWE0Ldi"
      },
      "outputs": [],
      "source": [
        "def gap(g, m, n):\n",
        "    last_prime = 2\n",
        "    for i in range(m, n+1):\n",
        "        prime = True\n",
        "\n",
        "        for j in range(2, int(n**.5)+1):\n",
        "            if i % j == 0:\n",
        "                prime = False\n",
        "                break\n",
        "\n",
        "        if prime:\n",
        "            if i - last_prime == g:\n",
        "                return [last_prime, i]\n",
        "            else:\n",
        "                last_prime = i"
      ]
    },
    {
      "cell_type": "code",
      "execution_count": null,
      "metadata": {
        "colab": {
          "base_uri": "https://localhost:8080/"
        },
        "id": "SxDMA1YZ0La-",
        "outputId": "e0d8139c-810e-4c2d-87c9-3aac9f696f20"
      },
      "outputs": [],
      "source": [
        "gap(2, 100, 105)"
      ]
    },
    {
      "cell_type": "markdown",
      "metadata": {
        "id": "BRscwRK7yyof"
      },
      "source": [
        "### ProjectEuler: Multiples of 3 or 5\n",
        "#### https://projecteuler.net/problem=1\n",
        "If we list all the natural numbers below 10 that are multiples of 3 or 5, we get 3, 5, 6 and 9. The sum of these multiples is 23.\n",
        "\n",
        "Find the sum of all the multiples of 3 or 5 below 1000."
      ]
    },
    {
      "cell_type": "code",
      "execution_count": null,
      "metadata": {
        "id": "YpK6ntaP0LYd"
      },
      "outputs": [],
      "source": [
        "#returns list of multiples within specified limit\n",
        "def find_multiples(multiple, limit):\n",
        "    result = list()\n",
        "    current_mult = multiple\n",
        "    for i in range(1, (limit + multiple) // multiple):\n",
        "            if current_mult * i < limit:\n",
        "                result.append(current_mult * i)\n",
        "    return result\n",
        "\n",
        "# returns the sum of the union of two sets\n",
        "def sum_multiples(multiples, limit):\n",
        "    set_1 = set(find_multiples(multiples[0], limit))\n",
        "    set_2 = set(find_multiples(multiples[1], limit))\n",
        "    return sum(set_1.union(set_2))\n",
        "    \n"
      ]
    },
    {
      "cell_type": "code",
      "execution_count": null,
      "metadata": {
        "colab": {
          "base_uri": "https://localhost:8080/"
        },
        "id": "OmSi-N9lzv88",
        "outputId": "eda58a4c-72e4-424e-9f2d-bc6e7ea2eb80"
      },
      "outputs": [],
      "source": [
        "sum_multiples([3,5], 1000)"
      ]
    },
    {
      "cell_type": "markdown",
      "metadata": {
        "id": "iPumeRiIH2wf"
      },
      "source": [
        "### Codewars: Joesphus"
      ]
    },
    {
      "cell_type": "code",
      "execution_count": null,
      "metadata": {
        "id": "xBpxGZ-TH2eR"
      },
      "outputs": [],
      "source": [
        "# n = people, k = skip value\n",
        "def josephus2(n,k):\n",
        "    n = list(range(1,n+1))\n",
        "    i = -1\n",
        "    while len(n) > 1:\n",
        "        i = (i + k) % len(n)\n",
        "        n = n[:i] + n[i+1:]\n",
        "        i -= 1\n",
        "\n",
        "    return n[0]"
      ]
    },
    {
      "cell_type": "code",
      "execution_count": null,
      "metadata": {
        "colab": {
          "base_uri": "https://localhost:8080/"
        },
        "id": "BZKf2tSJzv6u",
        "outputId": "33fafd79-78c6-4889-db8b-1306472df4cd"
      },
      "outputs": [],
      "source": [
        "josephus_survivor(7,3)"
      ]
    },
    {
      "cell_type": "markdown",
      "metadata": {
        "id": "meXOCIwgCM5F"
      },
      "source": [
        "### Codewars: ROT-13\n",
        "#### https://www.codewars.com/kata/52223df9e8f98c7aa7000062/train/python"
      ]
    },
    {
      "cell_type": "code",
      "execution_count": null,
      "metadata": {
        "id": "QFof32AXCMTD"
      },
      "outputs": [],
      "source": [
        "import string\n",
        "\n",
        "def rot13(message):\n",
        "    # in dict comprehension the key is set once, no need to set again in else statement\n",
        "    alph_set = {key: chr((ord(key) + 13)) if ord(key) + 13 < 123 else chr(ord(key) - 13) for key in string.ascii_lowercase}\n",
        "    # for loop method\n",
        "    # alph_set_2 = dict()\n",
        "    # for key in string.ascii_lowercase:\n",
        "    #     if ord(key) + 13 < 123:\n",
        "    #         alph_set_2[key] = chr(ord(key) + 13)\n",
        "    #     else:\n",
        "    #         alph_set_2[key] = chr(ord(key) - 13)\n",
        "    result = ''\n",
        "    for i in message:\n",
        "        if i.isalpha():\n",
        "            if i.isupper():\n",
        "                result += alph_set[i.lower()].upper()\n",
        "            else:\n",
        "                result += alph_set[i.lower()].lower()\n",
        "        else:\n",
        "            result += i\n",
        "    return result"
      ]
    },
    {
      "cell_type": "code",
      "execution_count": null,
      "metadata": {
        "colab": {
          "base_uri": "https://localhost:8080/",
          "height": 35
        },
        "id": "ygM5Kjywzv4c",
        "outputId": "39101850-fb47-414c-f434-7abec735f7b5"
      },
      "outputs": [],
      "source": [
        "rot13('1')"
      ]
    },
    {
      "cell_type": "code",
      "execution_count": null,
      "metadata": {
        "colab": {
          "base_uri": "https://localhost:8080/"
        },
        "id": "f6bLpSNFzv2F",
        "outputId": "8928dd4a-6195-489e-9fe2-e8a474fcf165"
      },
      "outputs": [],
      "source": [
        "45*60"
      ]
    },
    {
      "cell_type": "code",
      "execution_count": null,
      "metadata": {
        "colab": {
          "base_uri": "https://localhost:8080/"
        },
        "id": "2xwuoby0zvzh",
        "outputId": "17e2f404-2280-4b15-b605-7aa6b3a09733"
      },
      "outputs": [],
      "source": [
        "words = 'His e-mail is q-lar@freecodecamp.org'\n",
        "pieces = words.split()\n",
        "pieces"
      ]
    },
    {
      "cell_type": "code",
      "execution_count": null,
      "metadata": {
        "id": "qMXSWomDzvpl"
      },
      "outputs": [],
      "source": [
        "def solution(string):\n",
        "    return string[::-1]"
      ]
    },
    {
      "cell_type": "markdown",
      "metadata": {
        "id": "W7mdYFu8l0xZ"
      },
      "source": [
        "# Codewars: Prefill an Array(6kyu)<br>\n",
        "https://www.codewars.com/kata/54129112fb7c188740000162"
      ]
    },
    {
      "cell_type": "code",
      "execution_count": null,
      "metadata": {
        "id": "CflhK-1al0eg"
      },
      "outputs": [],
      "source": []
    },
    {
      "cell_type": "markdown",
      "metadata": {
        "id": "6He070hTXdg8"
      },
      "source": [
        "# Codewars: Dashatize it(6kyu)<br>\n",
        "https://www.codewars.com/kata/58223370aef9fc03fd000071/train/python"
      ]
    },
    {
      "cell_type": "code",
      "execution_count": null,
      "metadata": {
        "id": "fOONryoaXlql"
      },
      "outputs": [],
      "source": [
        "def dashatize(n, result= ''):\n",
        "    try:\n",
        "        n = abs(n)\n",
        "    except:\n",
        "        return 'None'\n",
        "    for item in str(n):\n",
        "        if int(item) % 2 != 0:\n",
        "            result += f'-{abs(int(item))}-'\n",
        "        else: result += item\n",
        "\n",
        "    result = result.replace('--', '-').strip('-')\n",
        "\n",
        "    return result"
      ]
    },
    {
      "cell_type": "code",
      "execution_count": null,
      "metadata": {
        "colab": {
          "base_uri": "https://localhost:8080/",
          "height": 35
        },
        "id": "mZF7HNSDYbxG",
        "outputId": "0b7d3061-e7ce-40ac-db0e-2cff9aaa808b"
      },
      "outputs": [],
      "source": [
        "dashatize(None)"
      ]
    },
    {
      "cell_type": "markdown",
      "metadata": {
        "id": "_z_tcxXKMkd8"
      },
      "source": [
        "# 8kyu : Square(n) Sum<br>\n",
        "https://www.codewars.com/kata/515e271a311df0350d00000f/train/python"
      ]
    },
    {
      "cell_type": "code",
      "execution_count": null,
      "metadata": {
        "id": "uyz1iLHFMkLz"
      },
      "outputs": [],
      "source": [
        "def square_sum(numbers):\n",
        "    return sum(i**2 for i in numbers)"
      ]
    },
    {
      "cell_type": "markdown",
      "metadata": {
        "id": "K1FaUMRhNV60"
      },
      "source": []
    },
    {
      "cell_type": "code",
      "execution_count": null,
      "metadata": {
        "id": "27HUooReYzpA"
      },
      "outputs": [],
      "source": [
        "def no_space(x):\n",
        "    return x.replace(' ', '')"
      ]
    },
    {
      "cell_type": "markdown",
      "metadata": {
        "id": "nmWkD2rvORN7"
      },
      "source": [
        "# 8kyu: Counting Sheep<br>\n",
        "https://www.codewars.com/kata/54edbc7200b811e956000556/train/python"
      ]
    },
    {
      "cell_type": "code",
      "execution_count": null,
      "metadata": {
        "id": "Zoc2tIDDOQmJ"
      },
      "outputs": [],
      "source": [
        "def count_sheeps(sheep):\n",
        "    return sheep.count(True)"
      ]
    },
    {
      "cell_type": "markdown",
      "metadata": {
        "id": "djDhHPSqPT6A"
      },
      "source": [
        "# 7kyu: Regex Validate PIN code\n"
      ]
    },
    {
      "cell_type": "code",
      "execution_count": null,
      "metadata": {
        "id": "z6WXWkzbPZl5"
      },
      "outputs": [],
      "source": [
        "def validate_pin(pin):\n",
        "    return len(pin) in (4, 6) and pin.isdigit()"
      ]
    },
    {
      "cell_type": "code",
      "execution_count": null,
      "metadata": {
        "colab": {
          "base_uri": "https://localhost:8080/"
        },
        "id": "D2G5yoDVG_li",
        "outputId": "cdfef7d5-1eb4-44af-af85-5368fef57904"
      },
      "outputs": [],
      "source": [
        "validate_pin('123')"
      ]
    },
    {
      "cell_type": "markdown",
      "metadata": {
        "id": "RGYrtb1WJF51"
      },
      "source": [
        "# 7kyu: Binary Addition"
      ]
    },
    {
      "cell_type": "code",
      "execution_count": null,
      "metadata": {
        "id": "54tCGT7YHwGd"
      },
      "outputs": [],
      "source": [
        "def add_binary(a,b):\n",
        "    return bin(a + b)[2:]"
      ]
    },
    {
      "cell_type": "code",
      "execution_count": null,
      "metadata": {
        "colab": {
          "base_uri": "https://localhost:8080/",
          "height": 35
        },
        "id": "yUX8MCZLJe_3",
        "outputId": "a3c5f2fc-13f5-46a6-e57b-224918334762"
      },
      "outputs": [],
      "source": [
        "test = 51, 12\n",
        "add_binary(51, 12)"
      ]
    },
    {
      "cell_type": "markdown",
      "metadata": {
        "id": "dZjs2glKMLi_"
      },
      "source": [
        "# 7kyu: Printer Errors"
      ]
    },
    {
      "cell_type": "code",
      "execution_count": null,
      "metadata": {
        "id": "taw2P5oiJ_jI"
      },
      "outputs": [],
      "source": [
        "def printer_error(s): #a: 97 m: 109 z:122\n",
        "    counter = 0\n",
        "    for e in s:\n",
        "        if e > \"m\":\n",
        "            counter += 1\n",
        "    return f'{counter}/{len(s)}'"
      ]
    },
    {
      "cell_type": "markdown",
      "metadata": {
        "id": "mwF3BxayvWi6"
      },
      "source": [
        "# 8kyu: Century from Year"
      ]
    },
    {
      "cell_type": "code",
      "execution_count": null,
      "metadata": {
        "id": "hDGH-ABMvcQb"
      },
      "outputs": [],
      "source": [
        "from math import ceil\n",
        "def century(year):\n",
        "    return ceil(year / 100)"
      ]
    },
    {
      "cell_type": "markdown",
      "metadata": {
        "id": "Qk2ABVywzYXT"
      },
      "source": [
        "# 7kyu: String ends with?"
      ]
    },
    {
      "cell_type": "code",
      "execution_count": null,
      "metadata": {
        "id": "SPreLn9ozYEC"
      },
      "outputs": [],
      "source": [
        "def solution(string, ending):\n",
        "    return ending == string[-len(ending):] or len(ending) == 0\n"
      ]
    },
    {
      "cell_type": "markdown",
      "metadata": {
        "id": "aVPdah-by1WA"
      },
      "source": [
        "git add<br>\n",
        "git commit -m \"\"<br>\n",
        "git push<br>\n",
        "git pull"
      ]
    },
    {
      "cell_type": "markdown",
      "metadata": {
        "id": "OHQhl2mjy1WA"
      },
      "source": [
        "# 7kyu: Ones and Zeroes\n"
      ]
    },
    {
      "cell_type": "code",
      "execution_count": null,
      "metadata": {
        "id": "ThccK4IKy1WA"
      },
      "outputs": [],
      "source": [
        "def binary_array_to_number(arr):\n",
        "    return int(''.join(map(str, arr)), 2)"
      ]
    },
    {
      "cell_type": "markdown",
      "metadata": {
        "id": "qFU06aS1y1WA"
      },
      "source": [
        "# 8kyu: Basic Mathematical Operations\n",
        "https://www.codewars.com/kata/57356c55867b9b7a60000bd7"
      ]
    },
    {
      "cell_type": "code",
      "execution_count": null,
      "metadata": {
        "id": "Am6ninSEy1WA"
      },
      "outputs": [],
      "source": [
        "def basic_op(operator, value1, value2):\n",
        "    # if operator == '+': return value1 + value2\n",
        "    # elif operator == '-': return value1 - value2\n",
        "    # elif operator == '*': return value1 * value2\n",
        "    # else: return value1 / value2\n",
        "    return eval(f'{value1}{operator}{value2}')\n",
        "    #eval function anything from string https://realpython.com/python-eval-function/\n"
      ]
    },
    {
      "cell_type": "markdown",
      "metadata": {
        "id": "h0kPpPrWy3-W"
      },
      "source": [
        "# 7kyu: Number of People in the bus\n",
        "https://www.codewars.com/kata/5648b12ce68d9daa6b000099/train/python"
      ]
    },
    {
      "cell_type": "code",
      "execution_count": null,
      "metadata": {
        "id": "OU8M99kfy1WA"
      },
      "outputs": [],
      "source": [
        "def number(bus_stops):\n",
        "    return sum([on - off for (on, off) in bus_stops])"
      ]
    },
    {
      "cell_type": "code",
      "execution_count": null,
      "metadata": {
        "colab": {
          "base_uri": "https://localhost:8080/"
        },
        "id": "8I8xxXMc0L6c",
        "outputId": "0dcd83ca-91a2-49fd-c7a2-eb4af55d143e"
      },
      "outputs": [],
      "source": [
        "number([[10,0],[3,5],[5,8]])"
      ]
    },
    {
      "cell_type": "markdown",
      "metadata": {
        "id": "tuZ_xGmz0g8D"
      },
      "source": [
        "# 8kyu: Convert number to reversed array of digits:\n",
        "https://www.codewars.com/kata/5583090cbe83f4fd8c000051/train/python"
      ]
    },
    {
      "cell_type": "code",
      "execution_count": null,
      "metadata": {
        "id": "kh2iyYOB0x-d"
      },
      "outputs": [],
      "source": [
        "def digitize(n):\n",
        "    # return list(reversed([int(number) for number in str(n)]))\n",
        "    return [int(x) for x in str(n)[::-1]]"
      ]
    },
    {
      "cell_type": "code",
      "execution_count": null,
      "metadata": {
        "colab": {
          "base_uri": "https://localhost:8080/"
        },
        "id": "RXXVfIDn0x2H",
        "outputId": "6cb02c95-ccf5-4629-8cab-5e4ff17b2af7"
      },
      "outputs": [],
      "source": [
        "digitize(35231)"
      ]
    },
    {
      "cell_type": "markdown",
      "metadata": {},
      "source": [
        "# 8kyu: Abbreviate a Two Word Name\n",
        "https://www.codewars.com/kata/57eadb7ecd143f4c9c0000a3/train/python"
      ]
    },
    {
      "cell_type": "code",
      "execution_count": null,
      "metadata": {},
      "outputs": [],
      "source": [
        "def abbrev_name(name):\n",
        "    return f\"{name.split(' ')[0][0].upper()}.{name.split(' ')[1][0].upper()}\""
      ]
    },
    {
      "cell_type": "code",
      "execution_count": null,
      "metadata": {},
      "outputs": [],
      "source": [
        "abbrev_name(\"Sam Harris\")"
      ]
    },
    {
      "cell_type": "markdown",
      "metadata": {},
      "source": [
        "# 8 kyu Is n divisible by x and y?\n",
        "https://www.codewars.com/kata/5545f109004975ea66000086/train/python"
      ]
    },
    {
      "cell_type": "code",
      "execution_count": null,
      "metadata": {},
      "outputs": [],
      "source": [
        "def is_divisible(n,x,y):\n",
        "    return n % y == 0 and n % x == 0"
      ]
    },
    {
      "cell_type": "code",
      "execution_count": null,
      "metadata": {},
      "outputs": [],
      "source": [
        "is_divisible(3,2,2)"
      ]
    },
    {
      "cell_type": "markdown",
      "metadata": {},
      "source": [
        "# 8 kyu A Needle in the Haystack\n",
        "https://www.codewars.com/kata/56676e8fabd2d1ff3000000c/train/python"
      ]
    },
    {
      "cell_type": "code",
      "execution_count": null,
      "metadata": {},
      "outputs": [],
      "source": [
        "def find_needle(haystack):\n",
        "    return f'found the needle at position {haystack.index(\"needle\")}'"
      ]
    },
    {
      "cell_type": "code",
      "execution_count": null,
      "metadata": {},
      "outputs": [],
      "source": [
        "find_needle(['3', '123124234', None, 'needle', 'world', 'hay', 2, '3', True, False])"
      ]
    },
    {
      "cell_type": "markdown",
      "metadata": {},
      "source": [
        "# 8 kyu Count of positives / sum of negatives\n",
        "https://www.codewars.com/kata/576bb71bbbcf0951d5000044/train/python\n"
      ]
    },
    {
      "cell_type": "code",
      "execution_count": null,
      "metadata": {},
      "outputs": [],
      "source": [
        "def count_positives_sum_negatives(arr):\n",
        "    count_pos = len([i for i in arr if i > 0])\n",
        "    sum_neg = sum([i for i in arr if i < 0])\n",
        "    return [] if not arr else [count_pos, sum_neg]"
      ]
    },
    {
      "cell_type": "markdown",
      "metadata": {},
      "source": [
        "# 6 kyu Roman Numerals Decoder\n",
        "https://www.codewars.com/kata/51b6249c4612257ac0000005/train/python"
      ]
    },
    {
      "cell_type": "code",
      "execution_count": null,
      "metadata": {},
      "outputs": [],
      "source": [
        "ROM_NUM = {\n",
        "    'I': 1,\n",
        "    'V': 5,\n",
        "    'X': 10,\n",
        "    'L': 50,\n",
        "    'C': 100,\n",
        "    'D': 500,\n",
        "    'M': 1000,\n",
        "}\n",
        "\n",
        "EDGE_CASE = {\n",
        "    'IV': 4,\n",
        "    'IX': 9,\n",
        "    'XL': 40, \n",
        "    'XC': 90, \n",
        "    'CD': 400, \n",
        "    'CM': 900 \n",
        "}\n",
        "\n",
        "def solution(roman):\n",
        "    sum_roman = 0\n",
        "    for keys in EDGE_CASE.keys():\n",
        "        if keys in roman:\n",
        "            roman = roman.replace(keys, \"\")\n",
        "            sum_roman += EDGE_CASE[keys]\n",
        "    chars_l = [char for char in roman]\n",
        "    for char in roman:\n",
        "        sum_roman +=ROM_NUM[char]\n",
        "    return sum_roman"
      ]
    },
    {
      "cell_type": "markdown",
      "metadata": {},
      "source": [
        "# 4 kyu Human readable duration format\n",
        "https://www.codewars.com/kata/52742f58faf5485cae000b9a/train/python"
      ]
    },
    {
      "cell_type": "code",
      "execution_count": null,
      "metadata": {},
      "outputs": [],
      "source": [
        "def format_duration(seconds):\n",
        "    result, answ = [], ''\n",
        "    y_d_h_m = [('year', 365 * 24 * 60 * 60), ('day', 24 * 60 * 60), ('hour', 60 * 60), ('minute', 60)]\n",
        "\n",
        "    if seconds == 0:\n",
        "        return 'now'\n",
        "\n",
        "    for i in range(len(y_d_h_m)):\n",
        "        if seconds >=  y_d_h_m[i][1]:\n",
        "            temp_val = seconds // y_d_h_m[i][1]\n",
        "            if temp_val > 1:\n",
        "                result.append([y_d_h_m[i][0] + 's',  temp_val])\n",
        "            else: result.append([y_d_h_m[i][0], temp_val])\n",
        "            seconds -= temp_val * y_d_h_m[i][1]\n",
        "    \n",
        "    if seconds == 1:\n",
        "        result.append(['second', seconds])\n",
        "    elif seconds > 1:\n",
        "        result.append(['seconds', seconds])\n",
        "\n",
        "    if len(result) == 1:\n",
        "        return f'{result[0][1]} {result[0][0]}'\n",
        "    elif len(result) > 1:\n",
        "        for i in range(len(result) - 1):\n",
        "            answ += f'{result[i][1]} {result[i][0]}, '\n",
        "        return f'{answ[:-2]} and {result[-1][1]} {result[-1][0]}'\n",
        "        \n",
        "\n",
        "   "
      ]
    },
    {
      "cell_type": "code",
      "execution_count": null,
      "metadata": {},
      "outputs": [],
      "source": [
        "format_duration(3662)"
      ]
    },
    {
      "cell_type": "markdown",
      "metadata": {},
      "source": [
        "# 4 kyu Sudoku Solution Validator\n",
        "https://www.codewars.com/kata/529bf0e9bdf7657179000008"
      ]
    },
    {
      "cell_type": "code",
      "execution_count": null,
      "metadata": {},
      "outputs": [],
      "source": [
        "def valid_solution(board):\n",
        "    # get columns\n",
        "    for row in range(0, 9):\n",
        "        new_row = []\n",
        "        for item in range(0, 9):\n",
        "            new_row.append(board[item][row])\n",
        "        board.append(new_row)\n",
        "    # get blocks\n",
        "    for i in range(0, 9, 3):\n",
        "        for j in range(0, 9, 3):\n",
        "            board.append(board[i][j:j+3] + board[i+1][j:j+3] + board[i+2][j:j+3])\n",
        "    # Row & check board\n",
        "    for row in board:\n",
        "        if len(set(row)) != 9 or sum(row) != 45:\n",
        "            return False\n",
        "    return True"
      ]
    },
    {
      "cell_type": "markdown",
      "metadata": {},
      "source": [
        "# 4 kyu Strip Comments\n",
        "https://www.codewars.com/kata/51c8e37cee245da6b40000bd/train/python"
      ]
    },
    {
      "cell_type": "markdown",
      "metadata": {
        "id": "3VGSjSKky1WA"
      },
      "source": []
    },
    {
      "cell_type": "code",
      "execution_count": null,
      "metadata": {},
      "outputs": [],
      "source": [
        "def solution(string, markers):\n",
        "    parts = string.split('\\n')\n",
        "    for s in markers:\n",
        "        parts = [v.split(s)[0].rstrip() for v in parts]\n",
        "    return '\\n'.join(parts)"
      ]
    },
    {
      "cell_type": "markdown",
      "metadata": {},
      "source": [
        "# 4kyu Range Extraction\n",
        "https://www.codewars.com/kata/51ba717bb08c1cd60f00002f"
      ]
    },
    {
      "cell_type": "code",
      "execution_count": null,
      "metadata": {},
      "outputs": [],
      "source": [
        "from itertools import groupby\n",
        "def solution(args):\n",
        "    for _, g in itertools.groupby(enumerate(args), lambda i_x : i_x[0] - i_x[1]):\n",
        "        r = [x for _, x in g]\n",
        "        ranges.append(r)\n",
        "    for l in ranges:\n",
        "        if len(l) > 2:\n",
        "            temp.append(f'{l[0]}-{l[-1]}')\n",
        "        else:\n",
        "            temp.append(l)\n",
        "    for i in temp:\n",
        "        if type(i) == list:\n",
        "            for x in i:\n",
        "                result.append(str(x))\n",
        "        else: result.append(i)\n",
        "    return ','.join(result)"
      ]
    },
    {
      "cell_type": "markdown",
      "metadata": {},
      "source": [
        "# 4 kyu Permutations\n",
        "https://www.codewars.com/kata/5254ca2719453dcc0b00027d/train/python"
      ]
    },
    {
      "cell_type": "code",
      "execution_count": 9,
      "metadata": {},
      "outputs": [],
      "source": [
        "def permutations(string):\n",
        "    if len(string) == 0:\n",
        "        return []\n",
        "    if len(string) == 1:\n",
        "        return [string]\n",
        " \n",
        "    # Find the permutations for lst if there are\n",
        "    # more than 1 characters\n",
        "    result = set()\n",
        " \n",
        "    # Iterate the input(lst) and calculate the permutation\n",
        "    for i in range(len(string)):\n",
        "        temp_result = \"\" # empty list that will store current permutation\n",
        "        first_letter = string[i]\n",
        "\n",
        "        # Extract lst[i] or m from the list.  remLst is\n",
        "        # remaining list\n",
        "        remaining_string = string[:i] + string[i+1:]\n",
        "\n",
        "        # Generating all permutations where m is first\n",
        "        # element\n",
        "        for p in permutations(remaining_string):\n",
        "            temp_result = first_letter + p\n",
        "            result.add(temp_result)\n",
        "    return list(result)\n"
      ]
    },
    {
      "cell_type": "code",
      "execution_count": 10,
      "metadata": {},
      "outputs": [
        {
          "data": {
            "text/plain": [
              "['baba', 'aabb', 'abab', 'baab', 'abba', 'bbaa']"
            ]
          },
          "execution_count": 10,
          "metadata": {},
          "output_type": "execute_result"
        }
      ],
      "source": [
        "permutations('aabb')"
      ]
    },
    {
      "cell_type": "markdown",
      "metadata": {},
      "source": [
        "# 6 kyu Give me a Diamond\n",
        "https://www.codewars.com/kata/5503013e34137eeeaa001648/train/python"
      ]
    },
    {
      "cell_type": "markdown",
      "metadata": {},
      "source": []
    },
    {
      "cell_type": "code",
      "execution_count": 101,
      "metadata": {},
      "outputs": [],
      "source": [
        "def diamond(n):\n",
        "    if n % 2 == 0 or n < 0:\n",
        "        return None\n",
        "    diamond_str = \"\"\n",
        "    for i in range(1, n + 1, 2):\n",
        "        txt = '*'\n",
        "        txt = i * txt\n",
        "        diamond_str += f'{txt.center(n).rstrip()}\\n'\n",
        "    for i in range(n - 2, 0, -2):\n",
        "        txt = '*'\n",
        "        txt = i * txt\n",
        "        diamond_str += f'{txt.center(n).rstrip()}\\n'\n",
        "    return print(diamond_str)"
      ]
    },
    {
      "cell_type": "code",
      "execution_count": 104,
      "metadata": {},
      "outputs": [],
      "source": [
        "diamond(2)"
      ]
    },
    {
      "cell_type": "code",
      "execution_count": 106,
      "metadata": {},
      "outputs": [
        {
          "name": "stdout",
          "output_type": "stream",
          "text": [
            "None\n"
          ]
        }
      ],
      "source": [
        "print(None)"
      ]
    },
    {
      "cell_type": "code",
      "execution_count": null,
      "metadata": {},
      "outputs": [],
      "source": []
    }
  ],
  "metadata": {
    "colab": {
      "collapsed_sections": [],
      "include_colab_link": true,
      "name": "Codewars.ipynb",
      "provenance": []
    },
    "kernelspec": {
      "display_name": "Python 3",
      "name": "python3"
    },
    "language_info": {
      "codemirror_mode": {
        "name": "ipython",
        "version": 3
      },
      "file_extension": ".py",
      "mimetype": "text/x-python",
      "name": "python",
      "nbconvert_exporter": "python",
      "pygments_lexer": "ipython3",
      "version": "3.10.0"
    }
  },
  "nbformat": 4,
  "nbformat_minor": 0
}
